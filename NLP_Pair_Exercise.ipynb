{
 "cells": [
  {
   "cell_type": "markdown",
   "metadata": {},
   "source": [
    ">1. Import nltk and download the ‘stopwords’ and ‘punkt’ packages"
   ]
  },
  {
   "cell_type": "code",
   "execution_count": 76,
   "metadata": {},
   "outputs": [
    {
     "name": "stderr",
     "output_type": "stream",
     "text": [
      "[nltk_data] Downloading package stopwords to\n",
      "[nltk_data]     C:\\Users\\aalsh\\AppData\\Roaming\\nltk_data...\n",
      "[nltk_data]   Package stopwords is already up-to-date!\n",
      "[nltk_data] Downloading package punkt to\n",
      "[nltk_data]     C:\\Users\\aalsh\\AppData\\Roaming\\nltk_data...\n",
      "[nltk_data]   Package punkt is already up-to-date!\n"
     ]
    },
    {
     "data": {
      "text/plain": [
       "True"
      ]
     },
     "execution_count": 76,
     "metadata": {},
     "output_type": "execute_result"
    }
   ],
   "source": [
    "import nltk \n",
    "nltk.download(\"stopwords\")\n",
    "nltk.download(\"punkt\")"
   ]
  },
  {
   "attachments": {
    "image.png": {
     "image/png": "[encoded data removed]"
    }
   },
   "cell_type": "markdown",
   "metadata": {},
   "source": [
    "> 2. How to tokenize a given text?\n",
    "\n",
    "Desired output:\n",
    "![image.png](attachment:image.png)"
   ]
  },
  {
   "cell_type": "code",
   "execution_count": 77,
   "metadata": {},
   "outputs": [
    {
     "data": {
      "text/plain": [
       "['Last',\n",
       " 'week',\n",
       " ',',\n",
       " 'University',\n",
       " 'Cambridge',\n",
       " 'shared',\n",
       " 'research',\n",
       " 'shows',\n",
       " 'everyone',\n",
       " 'wears',\n",
       " 'mask',\n",
       " 'outside',\n",
       " 'home',\n",
       " ',',\n",
       " 'dreaded',\n",
       " '‘',\n",
       " 'second',\n",
       " 'wave',\n",
       " '’',\n",
       " 'pandemic',\n",
       " 'avoided',\n",
       " '.']"
      ]
     },
     "execution_count": 77,
     "metadata": {},
     "output_type": "execute_result"
    }
   ],
   "source": [
    "#Input :\n",
    "\n",
    "text=\"Last week, the University of Cambridge shared its own research that shows\\\n",
    " if everyone wears a mask outside home,dreaded ‘second wave’ of the pandemic can be avoided.\"\n",
    "\n",
    "#Add your code here \n",
    "text = [word for word in word_tokenize(text) if not word in stopwords.words('english') ]\n",
    "text\n"
   ]
  },
  {
   "cell_type": "markdown",
   "metadata": {},
   "source": [
    "> 3. How to get the sentences of a text document ?\n"
   ]
  },
  {
   "cell_type": "code",
   "execution_count": 78,
   "metadata": {},
   "outputs": [],
   "source": [
    "#Data Input \n",
    "text=\"\"\"The outbreak of coronavirus disease 2019 (COVID-19) has created \n",
    "a global health crisis that has had a deep impact on the way we perceive\n",
    "our world and our everyday lives. Not only the rate of contagion and patterns\n",
    "of transmission threatens our sense of agency, but the safety measures put in\n",
    "place to contain the spread of the virus also require social distancing by\n",
    "refraining from doing what is inherently human, which is to find solace in the\n",
    "company of others. Within this context of physical threat, social and physical distancing,\n",
    "as well as public alarm, what has been (and can be) the role of the different mass media \n",
    "channels in our lives on individual, social and societal levels? Mass media have long been\n",
    "recognized as powerful forces shaping how we experience the world and ourselves.\n",
    "This recognition is accompanied by a growing volume of research, that closely follows the footsteps\n",
    "of technological transformations (e.g. radio, movies, television, the internet, mobiles) and\n",
    "the zeitgeist (e.g. cold war, 9/11, climate change) in an attempt to map mass media major impacts\n",
    "on how we perceive ourselves, both as individuals and citizens. Are media (broadcast and digital)\n",
    "still able to convey a sense of unity reaching large audiences, or are messages lost in the noisy\n",
    "crowd of mass self-communication? \"\"\""
   ]
  },
  {
   "cell_type": "code",
   "execution_count": 79,
   "metadata": {},
   "outputs": [
    {
     "name": "stdout",
     "output_type": "stream",
     "text": [
      "['The', 'outbreak', 'of', 'coronavirus', 'disease', '2019', '(', 'COVID-19', ')', 'has', 'created', 'a', 'global', 'health', 'crisis', 'that', 'has', 'had', 'a', 'deep', 'impact', 'on', 'the', 'way', 'we', 'perceive', 'our', 'world', 'and', 'our', 'everyday', 'lives', '.', 'Not', 'only', 'the', 'rate', 'of', 'contagion', 'and', 'patterns', 'of', 'transmission', 'threatens', 'our', 'sense', 'of', 'agency', ',', 'but', 'the', 'safety', 'measures', 'put', 'in', 'place', 'to', 'contain', 'the', 'spread', 'of', 'the', 'virus', 'also', 'require', 'social', 'distancing', 'by', 'refraining', 'from', 'doing', 'what', 'is', 'inherently', 'human', ',', 'which', 'is', 'to', 'find', 'solace', 'in', 'the', 'company', 'of', 'others', '.', 'Within', 'this', 'context', 'of', 'physical', 'threat', ',', 'social', 'and', 'physical', 'distancing', ',', 'as', 'well', 'as', 'public', 'alarm', ',', 'what', 'has', 'been', '(', 'and', 'can', 'be', ')', 'the', 'role', 'of', 'the', 'different', 'mass', 'media', 'channels', 'in', 'our', 'lives', 'on', 'individual', ',', 'social', 'and', 'societal', 'levels', '?', 'Mass', 'media', 'have', 'long', 'been', 'recognized', 'as', 'powerful', 'forces', 'shaping', 'how', 'we', 'experience', 'the', 'world', 'and', 'ourselves', '.', 'This', 'recognition', 'is', 'accompanied', 'by', 'a', 'growing', 'volume', 'of', 'research', ',', 'that', 'closely', 'follows', 'the', 'footsteps', 'of', 'technological', 'transformations', '(', 'e.g', '.', 'radio', ',', 'movies', ',', 'television', ',', 'the', 'internet', ',', 'mobiles', ')', 'and', 'the', 'zeitgeist', '(', 'e.g', '.', 'cold', 'war', ',', '9/11', ',', 'climate', 'change', ')', 'in', 'an', 'attempt', 'to', 'map', 'mass', 'media', 'major', 'impacts', 'on', 'how', 'we', 'perceive', 'ourselves', ',', 'both', 'as', 'individuals', 'and', 'citizens', '.', 'Are', 'media', '(', 'broadcast', 'and', 'digital', ')', 'still', 'able', 'to', 'convey', 'a', 'sense', 'of', 'unity', 'reaching', 'large', 'audiences', ',', 'or', 'are', 'messages', 'lost', 'in', 'the', 'noisy', 'crowd', 'of', 'mass', 'self-communication', '?']\n"
     ]
    }
   ],
   "source": [
    "#Add your code here \n",
    "from nltk.tokenize import word_tokenize\n",
    "\n",
    "print(word_tokenize(text))"
   ]
  },
  {
   "cell_type": "code",
   "execution_count": null,
   "metadata": {},
   "outputs": [],
   "source": []
  },
  {
   "cell_type": "code",
   "execution_count": 80,
   "metadata": {},
   "outputs": [
    {
     "name": "stdout",
     "output_type": "stream",
     "text": [
      "['The outbreak of coronavirus disease 2019 (COVID-19) has created \\na global health crisis that has had a deep impact on the way we perceive\\nour world and our everyday lives.', 'Not only the rate of contagion and patterns\\nof transmission threatens our sense of agency, but the safety measures put in\\nplace to contain the spread of the virus also require social distancing by\\nrefraining from doing what is inherently human, which is to find solace in the\\ncompany of others.', 'Within this context of physical threat, social and physical distancing,\\nas well as public alarm, what has been (and can be) the role of the different mass media \\nchannels in our lives on individual, social and societal levels?', 'Mass media have long been\\nrecognized as powerful forces shaping how we experience the world and ourselves.', 'This recognition is accompanied by a growing volume of research, that closely follows the footsteps\\nof technological transformations (e.g.', 'radio, movies, television, the internet, mobiles) and\\nthe zeitgeist (e.g.', 'cold war, 9/11, climate change) in an attempt to map mass media major impacts\\non how we perceive ourselves, both as individuals and citizens.', 'Are media (broadcast and digital)\\nstill able to convey a sense of unity reaching large audiences, or are messages lost in the noisy\\ncrowd of mass self-communication?']\n"
     ]
    }
   ],
   "source": [
    "\n",
    "from nltk.tokenize import sent_tokenize\n",
    "\n",
    "print(sent_tokenize(text))"
   ]
  },
  {
   "cell_type": "markdown",
   "metadata": {},
   "source": [
    "> 4. How to remove stop words in a text ?"
   ]
  },
  {
   "cell_type": "code",
   "execution_count": 48,
   "metadata": {},
   "outputs": [],
   "source": [
    "#Data Input \n",
    "text=\"\"\"The outbreak of coronavirus disease 2019 (COVID-19) has created \n",
    "a global health crisis that has had a deep impact on the way we perceive\n",
    "our world and our everyday lives. Not only the rate of contagion and patterns\n",
    "of transmission threatens our sense of agency, but the safety measures put in\n",
    "place to contain the spread of the virus also require social distancing by\n",
    "refraining from doing what is inherently human, which is to find solace in the\n",
    "company of others. Within this context of physical threat, social and physical distancing,\n",
    "as well as public alarm, what has been (and can be) the role of the different mass media \n",
    "channels in our lives on individual, social and societal levels? Mass media have long been\n",
    "recognized as powerful forces shaping how we experience the world and ourselves.\n",
    "This recognition is accompanied by a growing volume of research, that closely follows the footsteps\n",
    "of technological transformations (e.g. radio, movies, television, the internet, mobiles) and\n",
    "the zeitgeist (e.g. cold war, 9/11, climate change) in an attempt to map mass media major impacts\n",
    "on how we perceive ourselves, both as individuals and citizens. Are media (broadcast and digital)\n",
    "still able to convey a sense of unity reaching large audiences, or are messages lost in the noisy\n",
    "crowd of mass self-communication? \"\"\""
   ]
  },
  {
   "cell_type": "code",
   "execution_count": null,
   "metadata": {},
   "outputs": [],
   "source": []
  },
  {
   "cell_type": "code",
   "execution_count": 73,
   "metadata": {},
   "outputs": [],
   "source": [
    "#Add your code here \n",
    "#Remove Stop words\n",
    "from nltk.corpus import stopwords"
   ]
  },
  {
   "cell_type": "code",
   "execution_count": 54,
   "metadata": {},
   "outputs": [
    {
     "name": "stdout",
     "output_type": "stream",
     "text": [
      "['i', 'me', 'my', 'myself', 'we', 'our', 'ours', 'ourselves', 'you', \"you're\", \"you've\", \"you'll\", \"you'd\", 'your', 'yours', 'yourself', 'yourselves', 'he', 'him', 'his', 'himself', 'she', \"she's\", 'her', 'hers', 'herself', 'it', \"it's\", 'its', 'itself', 'they', 'them', 'their', 'theirs', 'themselves', 'what', 'which', 'who', 'whom', 'this', 'that', \"that'll\", 'these', 'those', 'am', 'is', 'are', 'was', 'were', 'be', 'been', 'being', 'have', 'has', 'had', 'having', 'do', 'does', 'did', 'doing', 'a', 'an', 'the', 'and', 'but', 'if', 'or', 'because', 'as', 'until', 'while', 'of', 'at', 'by', 'for', 'with', 'about', 'against', 'between', 'into', 'through', 'during', 'before', 'after', 'above', 'below', 'to', 'from', 'up', 'down', 'in', 'out', 'on', 'off', 'over', 'under', 'again', 'further', 'then', 'once', 'here', 'there', 'when', 'where', 'why', 'how', 'all', 'any', 'both', 'each', 'few', 'more', 'most', 'other', 'some', 'such', 'no', 'nor', 'not', 'only', 'own', 'same', 'so', 'than', 'too', 'very', 's', 't', 'can', 'will', 'just', 'don', \"don't\", 'should', \"should've\", 'now', 'd', 'll', 'm', 'o', 're', 've', 'y', 'ain', 'aren', \"aren't\", 'couldn', \"couldn't\", 'didn', \"didn't\", 'doesn', \"doesn't\", 'hadn', \"hadn't\", 'hasn', \"hasn't\", 'haven', \"haven't\", 'isn', \"isn't\", 'ma', 'mightn', \"mightn't\", 'mustn', \"mustn't\", 'needn', \"needn't\", 'shan', \"shan't\", 'shouldn', \"shouldn't\", 'wasn', \"wasn't\", 'weren', \"weren't\", 'won', \"won't\", 'wouldn', \"wouldn't\"]\n"
     ]
    }
   ],
   "source": [
    "print(stopwords.words('english'))\n",
    "\n"
   ]
  },
  {
   "cell_type": "code",
   "execution_count": 56,
   "metadata": {},
   "outputs": [
    {
     "name": "stdout",
     "output_type": "stream",
     "text": [
      "Collecting gensim\n",
      "  Downloading gensim-4.1.2-cp39-cp39-win_amd64.whl (24.0 MB)\n",
      "Requirement already satisfied: scipy>=0.18.1 in c:\\users\\aalsh\\anaconda3\\lib\\site-packages (from gensim) (1.7.1)\n",
      "Collecting smart-open>=1.8.1\n",
      "  Downloading smart_open-5.2.1-py3-none-any.whl (58 kB)\n",
      "Requirement already satisfied: numpy>=1.17.0 in c:\\users\\aalsh\\anaconda3\\lib\\site-packages (from gensim) (1.20.3)\n",
      "Collecting Cython==0.29.23\n",
      "  Downloading Cython-0.29.23-cp39-cp39-win_amd64.whl (1.7 MB)\n",
      "Installing collected packages: smart-open, Cython, gensim\n",
      "  Attempting uninstall: Cython\n",
      "    Found existing installation: Cython 0.29.24\n",
      "    Uninstalling Cython-0.29.24:\n",
      "      Successfully uninstalled Cython-0.29.24\n",
      "Successfully installed Cython-0.29.23 gensim-4.1.2 smart-open-5.2.1\n"
     ]
    }
   ],
   "source": [
    "!pip install gensim"
   ]
  },
  {
   "cell_type": "code",
   "execution_count": 57,
   "metadata": {},
   "outputs": [
    {
     "name": "stdout",
     "output_type": "stream",
     "text": [
      "The outbreak coronavirus disease 2019 (COVID-19) created global health crisis deep impact way perceive world everyday lives. Not rate contagion patterns transmission threatens sense agency, safety measures place contain spread virus require social distancing refraining inherently human, solace company others. Within context physical threat, social physical distancing, public alarm, (and be) role different mass media channels lives individual, social societal levels? Mass media long recognized powerful forces shaping experience world ourselves. This recognition accompanied growing volume research, closely follows footsteps technological transformations (e.g. radio, movies, television, internet, mobiles) zeitgeist (e.g. cold war, 9/11, climate change) attempt map mass media major impacts perceive ourselves, individuals citizens. Are media (broadcast digital) able convey sense unity reaching large audiences, messages lost noisy crowd mass self-communication?\n"
     ]
    }
   ],
   "source": [
    "from gensim.parsing.preprocessing import remove_stopwords\n",
    "\n",
    "filtered_sentence = remove_stopwords(text)\n",
    "\n",
    "print(filtered_sentence)\n"
   ]
  },
  {
   "cell_type": "markdown",
   "metadata": {},
   "source": [
    "> 5. How to remove punctuations ?"
   ]
  },
  {
   "cell_type": "code",
   "execution_count": 19,
   "metadata": {},
   "outputs": [
    {
     "data": {
      "text/plain": [
       "'\\nThe match has concluded India has won the match Will we fin the finals too\\n'"
      ]
     },
     "execution_count": 19,
     "metadata": {},
     "output_type": "execute_result"
    }
   ],
   "source": [
    "#Q. Remove all the punctuations in the given text\n",
    "\n",
    "#Input :\n",
    "\n",
    "text1=\"The match has concluded !!! India has won the match . Will we fin the finals too ? !\"\n",
    "\n",
    "#Desired output: \n",
    "\"\"\"\n",
    "The match has concluded India has won the match Will we fin the finals too\n",
    "\"\"\"\n",
    "\n",
    "#Add you code here \n",
    "\n"
   ]
  },
  {
   "cell_type": "code",
   "execution_count": 20,
   "metadata": {},
   "outputs": [],
   "source": [
    "import re \n",
    "import string\n",
    "clean_text = re.sub('[%s]' % re.escape(string.punctuation), '', text1)"
   ]
  },
  {
   "cell_type": "code",
   "execution_count": 21,
   "metadata": {},
   "outputs": [
    {
     "data": {
      "text/plain": [
       "'The match has concluded  India has won the match  Will we fin the finals too  '"
      ]
     },
     "execution_count": 21,
     "metadata": {},
     "output_type": "execute_result"
    }
   ],
   "source": [
    "clean_text"
   ]
  },
  {
   "cell_type": "markdown",
   "metadata": {},
   "source": [
    "> 6. How to extract usernames from emails ?"
   ]
  },
  {
   "cell_type": "code",
   "execution_count": 22,
   "metadata": {},
   "outputs": [],
   "source": [
    "#Q. Extract the usernames from the email addresses present in the text\n",
    "\n",
    "#Input :\n",
    "\n",
    "text2= \"\"\" The new registrations are potter709@gmail.com , elixir101@gmail.com. If you find any disruptions,kindly contact granger111@gamil.com or severus77@gamil.com\n",
    "     \"\"\"\n",
    "#Desired Output: \n",
    "# ['potter709', 'elixir101', 'granger111', 'severus77']\n",
    "\n",
    "#Add your code below:\n",
    "\n"
   ]
  },
  {
   "cell_type": "code",
   "execution_count": 24,
   "metadata": {},
   "outputs": [
    {
     "name": "stdout",
     "output_type": "stream",
     "text": [
      " The new registrations are potter709\n"
     ]
    }
   ],
   "source": []
  },
  {
   "cell_type": "code",
   "execution_count": null,
   "metadata": {},
   "outputs": [],
   "source": []
  },
  {
   "cell_type": "code",
   "execution_count": 32,
   "metadata": {},
   "outputs": [
    {
     "name": "stdout",
     "output_type": "stream",
     "text": [
      "['potter709@gmail.com', 'elixir101@gmail.com', 'granger111@gamil.com', 'severus77@gamil.com']\n"
     ]
    }
   ],
   "source": [
    "import re\n",
    "\n",
    "text2= \"\"\" The new registrations are potter709@gmail.com , elixir101@gmail.com. If you find any disruptions,kindly contact granger111@gamil.com or severus77@gamil.com\n",
    "     \"\"\"\n",
    "\n",
    "\n",
    "emails = re.findall(r\"[a-z0-9\\.\\-+_]+@[a-z0-9\\.\\-+_]+\\.[a-z]+\", text2)\n",
    "\n",
    "print (emails)\n"
   ]
  },
  {
   "cell_type": "code",
   "execution_count": 34,
   "metadata": {},
   "outputs": [
    {
     "name": "stdout",
     "output_type": "stream",
     "text": [
      " The new registrations are potter709\n"
     ]
    }
   ],
   "source": [
    "\n",
    "index = text2.index(\"@\")\n",
    "\n",
    "# Next lets get the string starting from the begining up to the location of the \"@\" sign.\n",
    "\n",
    "s_id = text2[:index]\n",
    "\n",
    "print(s_id)\n"
   ]
  },
  {
   "cell_type": "code",
   "execution_count": 41,
   "metadata": {},
   "outputs": [],
   "source": [
    "def email_splitter(emails):\n",
    "    for i in emails: \n",
    "        username = i.split('@')[0]\n",
    "        domain = i.split('@')[1]\n",
    "        domain_name = domain.split('.')[0]\n",
    "        domain_type = domain.split('.')[1]\n",
    "        print('Username : ', username)\n"
   ]
  },
  {
   "cell_type": "code",
   "execution_count": 42,
   "metadata": {},
   "outputs": [
    {
     "name": "stdout",
     "output_type": "stream",
     "text": [
      "Username :  potter709\n",
      "Username :  elixir101\n",
      "Username :  granger111\n",
      "Username :  severus77\n"
     ]
    }
   ],
   "source": [
    "email_splitter(emails)"
   ]
  },
  {
   "cell_type": "markdown",
   "metadata": {},
   "source": [
    "> 7. How to find the cosine similarity of two documents?"
   ]
  },
  {
   "cell_type": "code",
   "execution_count": 58,
   "metadata": {},
   "outputs": [
    {
     "data": {
      "text/plain": [
       "'\\n[[1.         0.45584231]\\n [0.45584231 1.        ]]\\n '"
      ]
     },
     "execution_count": 58,
     "metadata": {},
     "output_type": "execute_result"
    }
   ],
   "source": [
    "#Q. Find the cosine similarity between two given documents\n",
    "\n",
    "#Input\n",
    "\n",
    "text1='Taj Mahal is a tourist place in India'\n",
    "text2='Great Wall of China is a tourist place in china'\n",
    "\n",
    "#Desired Output Matrix:\n",
    "\"\"\"\n",
    "[[1.         0.45584231]\n",
    " [0.45584231 1.        ]]\n",
    " \"\"\"\n",
    "\n",
    "#Add code Here \n",
    "\n",
    "# Obtaining the document-word matrix\n",
    "\n",
    "# Computing cosine similarity"
   ]
  },
  {
   "cell_type": "code",
   "execution_count": 63,
   "metadata": {},
   "outputs": [],
   "source": [
    "documents = [text1, text2]\n"
   ]
  },
  {
   "cell_type": "code",
   "execution_count": 64,
   "metadata": {},
   "outputs": [
    {
     "data": {
      "text/html": [
       "<div>\n",
       "<style scoped>\n",
       "    .dataframe tbody tr th:only-of-type {\n",
       "        vertical-align: middle;\n",
       "    }\n",
       "\n",
       "    .dataframe tbody tr th {\n",
       "        vertical-align: top;\n",
       "    }\n",
       "\n",
       "    .dataframe thead th {\n",
       "        text-align: right;\n",
       "    }\n",
       "</style>\n",
       "<table border=\"1\" class=\"dataframe\">\n",
       "  <thead>\n",
       "    <tr style=\"text-align: right;\">\n",
       "      <th></th>\n",
       "      <th>china</th>\n",
       "      <th>great</th>\n",
       "      <th>in</th>\n",
       "      <th>india</th>\n",
       "      <th>is</th>\n",
       "      <th>mahal</th>\n",
       "      <th>of</th>\n",
       "      <th>place</th>\n",
       "      <th>taj</th>\n",
       "      <th>tourist</th>\n",
       "      <th>wall</th>\n",
       "    </tr>\n",
       "  </thead>\n",
       "  <tbody>\n",
       "    <tr>\n",
       "      <th>text1</th>\n",
       "      <td>0</td>\n",
       "      <td>0</td>\n",
       "      <td>1</td>\n",
       "      <td>1</td>\n",
       "      <td>1</td>\n",
       "      <td>1</td>\n",
       "      <td>0</td>\n",
       "      <td>1</td>\n",
       "      <td>1</td>\n",
       "      <td>1</td>\n",
       "      <td>0</td>\n",
       "    </tr>\n",
       "    <tr>\n",
       "      <th>text2</th>\n",
       "      <td>2</td>\n",
       "      <td>1</td>\n",
       "      <td>1</td>\n",
       "      <td>0</td>\n",
       "      <td>1</td>\n",
       "      <td>0</td>\n",
       "      <td>1</td>\n",
       "      <td>1</td>\n",
       "      <td>0</td>\n",
       "      <td>1</td>\n",
       "      <td>1</td>\n",
       "    </tr>\n",
       "  </tbody>\n",
       "</table>\n",
       "</div>"
      ],
      "text/plain": [
       "       china  great  in  india  is  mahal  of  place  taj  tourist  wall\n",
       "text1      0      0   1      1   1      1   0      1    1        1     0\n",
       "text2      2      1   1      0   1      0   1      1    0        1     1"
      ]
     },
     "execution_count": 64,
     "metadata": {},
     "output_type": "execute_result"
    }
   ],
   "source": [
    "# Scikit Learn\n",
    "from sklearn.feature_extraction.text import CountVectorizer\n",
    "import pandas as pd\n",
    "\n",
    "# Create the Document Term Matrix\n",
    "count_vectorizer = CountVectorizer(stop_words='english')\n",
    "count_vectorizer = CountVectorizer()\n",
    "sparse_matrix = count_vectorizer.fit_transform(documents)\n",
    "\n",
    "# OPTIONAL: Convert Sparse Matrix to Pandas Dataframe if you want to see the word frequencies.\n",
    "doc_term_matrix = sparse_matrix.todense()\n",
    "df = pd.DataFrame(doc_term_matrix, \n",
    "                  columns=count_vectorizer.get_feature_names(), \n",
    "                  index=['text1', 'text2'])\n",
    "df"
   ]
  },
  {
   "cell_type": "code",
   "execution_count": 65,
   "metadata": {},
   "outputs": [
    {
     "name": "stdout",
     "output_type": "stream",
     "text": [
      "[[1.         0.45584231]\n",
      " [0.45584231 1.        ]]\n"
     ]
    }
   ],
   "source": [
    "from sklearn.metrics.pairwise import cosine_similarity\n",
    "print(cosine_similarity(df, df))"
   ]
  },
  {
   "cell_type": "code",
   "execution_count": null,
   "metadata": {},
   "outputs": [],
   "source": []
  },
  {
   "cell_type": "code",
   "execution_count": null,
   "metadata": {},
   "outputs": [],
   "source": []
  },
  {
   "cell_type": "markdown",
   "metadata": {},
   "source": [
    "# Pair problem\n",
    "This morning we'll implement a method for featurizing text, i.e. turning words into numeric values that can be fed to machine learning models. We'll use a small set of amazon reviews with positive/negative sentiment labels (balanced classes), and a simple multinomial naive bayes model to test our method.\n",
    "\n",
    "You can use sklearn for everything except the Count Vectorizer methods :)\n",
    "\n",
    "**Steps:**"
   ]
  },
  {
   "cell_type": "markdown",
   "metadata": {},
   "source": [
    "**1.** Read in the data, take a quick look, and do a train/test split. This one's a gift to you:\n",
    "\n",
    "```\n",
    "df = pd.read_csv(\"Data/amazon_cells_labelled.txt\", sep='\\t', names=['text', 'sentiment'])\n",
    "\n",
    "df.head()\n",
    "```"
   ]
  },
  {
   "cell_type": "markdown",
   "metadata": {},
   "source": [
    "```\n",
    "# train test split\n",
    "X_train, X_test, y_train, y_test = train_test_split(df.text, df.sentiment,\n",
    "                                                    test_size=.2, random_state=2018)\n",
    "```    "
   ]
  },
  {
   "cell_type": "markdown",
   "metadata": {},
   "source": [
    "**2.** We want to predict the sentiment of the review only using the text. ??? How do we turn words into numeric features? \n",
    "\n",
    "This is where the **Count Vectorizer** method comes into play. It turns out we can do something pretty simple - just count word occurences across all of our different text samples (documents). Each word in the the entire corpus (collection of documents) gets its own feature column. \n",
    "\n",
    "Your major task is to write a class and/or series of functions that accomplish the following:\n",
    "\n",
    "* Iterate through a corpus and collect all of the distinct words that occur into a global **vocabulary**. Hint: try using Counter from the collections library.\n",
    "\n",
    "* To each word in the vocabulary, assign a consistent ordered position - for example, you could sort by the number of occurences (but any consistent positioning is fine).\n",
    "\n",
    "* **Transform a corpus into a numeric dataframe**, with one column for each word in the vocabulary. For each document in the corpus (row in the dataframe), count occurences of each word and fill the corresponding dataframe columns with the appropriate counts. The positioning in bullet 2 allows you to do this consistently. This output is called a **document-term matrix**. "
   ]
  },
  {
   "cell_type": "code",
   "execution_count": null,
   "metadata": {},
   "outputs": [],
   "source": []
  }
 ],
 "metadata": {
  "kernelspec": {
   "display_name": "Python 3 (ipykernel)",
   "language": "python",
   "name": "python3"
  },
  "language_info": {
   "codemirror_mode": {
    "name": "ipython",
    "version": 3
   },
   "file_extension": ".py",
   "mimetype": "text/x-python",
   "name": "python",
   "nbconvert_exporter": "python",
   "pygments_lexer": "ipython3",
   "version": "3.9.7"
  }
 },
 "nbformat": 4,
 "nbformat_minor": 4
}
